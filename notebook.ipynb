{
 "cells": [
  {
   "cell_type": "markdown",
   "metadata": {},
   "source": [
    "#### Import Library"
   ]
  },
  {
   "cell_type": "code",
   "execution_count": 1,
   "metadata": {},
   "outputs": [],
   "source": [
    "import pandas as pd\n",
    "import numpy as np\n",
    "\n",
    "np.warnings.filterwarnings('ignore')"
   ]
  },
  {
   "cell_type": "markdown",
   "metadata": {},
   "source": [
    "#### Import Dataset"
   ]
  },
  {
   "cell_type": "markdown",
   "metadata": {},
   "source": [
    "Dataset ini merupakan respon subyek penelitian terhadap depresi, stress dan kecemasan. Data yang dimasukkan merupakan data yang dihimpun pada tahun 2017-2019."
   ]
  },
  {
   "cell_type": "code",
   "execution_count": 2,
   "metadata": {},
   "outputs": [
    {
     "data": {
      "text/html": [
       "<div>\n",
       "<style scoped>\n",
       "    .dataframe tbody tr th:only-of-type {\n",
       "        vertical-align: middle;\n",
       "    }\n",
       "\n",
       "    .dataframe tbody tr th {\n",
       "        vertical-align: top;\n",
       "    }\n",
       "\n",
       "    .dataframe thead th {\n",
       "        text-align: right;\n",
       "    }\n",
       "</style>\n",
       "<table border=\"1\" class=\"dataframe\">\n",
       "  <thead>\n",
       "    <tr style=\"text-align: right;\">\n",
       "      <th></th>\n",
       "      <th>Q1A</th>\n",
       "      <th>Q1I</th>\n",
       "      <th>Q1E</th>\n",
       "      <th>Q2A</th>\n",
       "      <th>Q2I</th>\n",
       "      <th>Q2E</th>\n",
       "      <th>Q3A</th>\n",
       "      <th>Q3I</th>\n",
       "      <th>Q3E</th>\n",
       "      <th>Q4A</th>\n",
       "      <th>...</th>\n",
       "      <th>screensize</th>\n",
       "      <th>uniquenetworklocation</th>\n",
       "      <th>hand</th>\n",
       "      <th>religion</th>\n",
       "      <th>orientation</th>\n",
       "      <th>race</th>\n",
       "      <th>voted</th>\n",
       "      <th>married</th>\n",
       "      <th>familysize</th>\n",
       "      <th>major</th>\n",
       "    </tr>\n",
       "  </thead>\n",
       "  <tbody>\n",
       "    <tr>\n",
       "      <th>0</th>\n",
       "      <td>4</td>\n",
       "      <td>28</td>\n",
       "      <td>3890</td>\n",
       "      <td>4</td>\n",
       "      <td>25</td>\n",
       "      <td>2122</td>\n",
       "      <td>2</td>\n",
       "      <td>16</td>\n",
       "      <td>1944</td>\n",
       "      <td>4</td>\n",
       "      <td>...</td>\n",
       "      <td>1</td>\n",
       "      <td>1</td>\n",
       "      <td>1</td>\n",
       "      <td>12</td>\n",
       "      <td>1</td>\n",
       "      <td>10</td>\n",
       "      <td>2</td>\n",
       "      <td>1</td>\n",
       "      <td>2</td>\n",
       "      <td>None</td>\n",
       "    </tr>\n",
       "    <tr>\n",
       "      <th>1</th>\n",
       "      <td>4</td>\n",
       "      <td>2</td>\n",
       "      <td>8118</td>\n",
       "      <td>1</td>\n",
       "      <td>36</td>\n",
       "      <td>2890</td>\n",
       "      <td>2</td>\n",
       "      <td>35</td>\n",
       "      <td>4777</td>\n",
       "      <td>3</td>\n",
       "      <td>...</td>\n",
       "      <td>2</td>\n",
       "      <td>1</td>\n",
       "      <td>2</td>\n",
       "      <td>7</td>\n",
       "      <td>0</td>\n",
       "      <td>70</td>\n",
       "      <td>2</td>\n",
       "      <td>1</td>\n",
       "      <td>4</td>\n",
       "      <td>None</td>\n",
       "    </tr>\n",
       "    <tr>\n",
       "      <th>2</th>\n",
       "      <td>3</td>\n",
       "      <td>7</td>\n",
       "      <td>5784</td>\n",
       "      <td>1</td>\n",
       "      <td>33</td>\n",
       "      <td>4373</td>\n",
       "      <td>4</td>\n",
       "      <td>41</td>\n",
       "      <td>3242</td>\n",
       "      <td>1</td>\n",
       "      <td>...</td>\n",
       "      <td>2</td>\n",
       "      <td>1</td>\n",
       "      <td>1</td>\n",
       "      <td>4</td>\n",
       "      <td>3</td>\n",
       "      <td>60</td>\n",
       "      <td>1</td>\n",
       "      <td>1</td>\n",
       "      <td>3</td>\n",
       "      <td>None</td>\n",
       "    </tr>\n",
       "    <tr>\n",
       "      <th>3</th>\n",
       "      <td>2</td>\n",
       "      <td>23</td>\n",
       "      <td>5081</td>\n",
       "      <td>3</td>\n",
       "      <td>11</td>\n",
       "      <td>6837</td>\n",
       "      <td>2</td>\n",
       "      <td>37</td>\n",
       "      <td>5521</td>\n",
       "      <td>1</td>\n",
       "      <td>...</td>\n",
       "      <td>2</td>\n",
       "      <td>1</td>\n",
       "      <td>2</td>\n",
       "      <td>4</td>\n",
       "      <td>5</td>\n",
       "      <td>70</td>\n",
       "      <td>2</td>\n",
       "      <td>1</td>\n",
       "      <td>5</td>\n",
       "      <td>biology</td>\n",
       "    </tr>\n",
       "    <tr>\n",
       "      <th>4</th>\n",
       "      <td>2</td>\n",
       "      <td>36</td>\n",
       "      <td>3215</td>\n",
       "      <td>2</td>\n",
       "      <td>13</td>\n",
       "      <td>7731</td>\n",
       "      <td>3</td>\n",
       "      <td>5</td>\n",
       "      <td>4156</td>\n",
       "      <td>4</td>\n",
       "      <td>...</td>\n",
       "      <td>2</td>\n",
       "      <td>2</td>\n",
       "      <td>3</td>\n",
       "      <td>10</td>\n",
       "      <td>1</td>\n",
       "      <td>10</td>\n",
       "      <td>2</td>\n",
       "      <td>1</td>\n",
       "      <td>4</td>\n",
       "      <td>Psychology</td>\n",
       "    </tr>\n",
       "  </tbody>\n",
       "</table>\n",
       "<p>5 rows × 172 columns</p>\n",
       "</div>"
      ],
      "text/plain": [
       "   Q1A  Q1I   Q1E  Q2A  Q2I   Q2E  Q3A  Q3I   Q3E  Q4A  ...  screensize  \\\n",
       "0    4   28  3890    4   25  2122    2   16  1944    4  ...           1   \n",
       "1    4    2  8118    1   36  2890    2   35  4777    3  ...           2   \n",
       "2    3    7  5784    1   33  4373    4   41  3242    1  ...           2   \n",
       "3    2   23  5081    3   11  6837    2   37  5521    1  ...           2   \n",
       "4    2   36  3215    2   13  7731    3    5  4156    4  ...           2   \n",
       "\n",
       "   uniquenetworklocation  hand  religion  orientation  race  voted  married  \\\n",
       "0                      1     1        12            1    10      2        1   \n",
       "1                      1     2         7            0    70      2        1   \n",
       "2                      1     1         4            3    60      1        1   \n",
       "3                      1     2         4            5    70      2        1   \n",
       "4                      2     3        10            1    10      2        1   \n",
       "\n",
       "   familysize       major  \n",
       "0           2        None  \n",
       "1           4        None  \n",
       "2           3        None  \n",
       "3           5     biology  \n",
       "4           4  Psychology  \n",
       "\n",
       "[5 rows x 172 columns]"
      ]
     },
     "execution_count": 2,
     "metadata": {},
     "output_type": "execute_result"
    }
   ],
   "source": [
    "df_data = pd.read_csv(\"data.csv\", sep=r'\\t')\n",
    "df_data.head()"
   ]
  },
  {
   "cell_type": "markdown",
   "metadata": {},
   "source": [
    "Melihat informasi dari dataset, baik dari jumlah data, jumlah kolom dan tipe data pada masing-masing kolom"
   ]
  },
  {
   "cell_type": "code",
   "execution_count": 3,
   "metadata": {},
   "outputs": [
    {
     "data": {
      "text/plain": [
       "<bound method DataFrame.info of        Q1A  Q1I    Q1E  Q2A  Q2I   Q2E  Q3A  Q3I    Q3E  Q4A  ...  screensize  \\\n",
       "0        4   28   3890    4   25  2122    2   16   1944    4  ...           1   \n",
       "1        4    2   8118    1   36  2890    2   35   4777    3  ...           2   \n",
       "2        3    7   5784    1   33  4373    4   41   3242    1  ...           2   \n",
       "3        2   23   5081    3   11  6837    2   37   5521    1  ...           2   \n",
       "4        2   36   3215    2   13  7731    3    5   4156    4  ...           2   \n",
       "...    ...  ...    ...  ...  ...   ...  ...  ...    ...  ...  ...         ...   \n",
       "39770    2   31   3287    1    5  2216    3   29   3895    2  ...           2   \n",
       "39771    3   14   4792    4   41  2604    3   15   2668    4  ...           1   \n",
       "39772    2    1  25147    1    4  4555    2   14   3388    1  ...           2   \n",
       "39773    3   36   4286    1   34  2736    2   10   5968    2  ...           2   \n",
       "39774    2   28  32251    1   22  3317    2    4  11734    1  ...           1   \n",
       "\n",
       "       uniquenetworklocation  hand  religion  orientation  race  voted  \\\n",
       "0                          1     1        12            1    10      2   \n",
       "1                          1     2         7            0    70      2   \n",
       "2                          1     1         4            3    60      1   \n",
       "3                          1     2         4            5    70      2   \n",
       "4                          2     3        10            1    10      2   \n",
       "...                      ...   ...       ...          ...   ...    ...   \n",
       "39770                      1     1         2            4    60      2   \n",
       "39771                      1     1        10            0    10      2   \n",
       "39772                      1     1         7            1    30      1   \n",
       "39773                      1     1         6            1    60      1   \n",
       "39774                      1     1        10            1    10      1   \n",
       "\n",
       "       married  familysize              major  \n",
       "0            1           2               None  \n",
       "1            1           4               None  \n",
       "2            1           3               None  \n",
       "3            1           5            biology  \n",
       "4            1           4         Psychology  \n",
       "...        ...         ...                ...  \n",
       "39770        1           2               None  \n",
       "39771        1           4         Mathematic  \n",
       "39772        2           3   Computer Science  \n",
       "39773        1           2            History  \n",
       "39774        1           4  Cognitive Science  \n",
       "\n",
       "[39775 rows x 172 columns]>"
      ]
     },
     "execution_count": 3,
     "metadata": {},
     "output_type": "execute_result"
    }
   ],
   "source": [
    "df_data.info"
   ]
  },
  {
   "cell_type": "markdown",
   "metadata": {},
   "source": [
    "Dikarenakan banyaknya kolom tidak dapat melihat informasi dataset dengan baik menggunakan fungsi info()"
   ]
  },
  {
   "cell_type": "markdown",
   "metadata": {},
   "source": [
    "#### Prepocessing Part 1"
   ]
  },
  {
   "cell_type": "markdown",
   "metadata": {},
   "source": [
    "Sebelumnya dataset tersebut tidak memiliki label dan dari sumbernya di kaggle juga tidak menjelaskan seperti apakah label yang sesuai. Namun di website \n",
    "\n",
    "https://maic.qld.gov.au/wp-content/uploads/2016/07/DASS-21.pdf \n",
    "\n",
    "saya menemukan bahwa dataset ini memiliki label yang sesuai sehingga dalam proses prepocessing selanjutnya akan membuatkan dataset ini label secara manual"
   ]
  },
  {
   "cell_type": "markdown",
   "metadata": {},
   "source": [
    "Pertama-pertama disini saya akan berfokus pada 3 kategori pertanyaan yaitu kategori dekpresi, stres, dan kecemasan. Berdasarkan referensi yang didapat mengenai urutan pertanyaan maka disini perlu dipisahkan terlebih dahulu tiap kategori pertanyaan"
   ]
  },
  {
   "cell_type": "code",
   "execution_count": 4,
   "metadata": {},
   "outputs": [],
   "source": [
    "DASS_number_q = {'Depression': [3, 5, 10, 13, 16, 17, 21, 24, 26, 31, 34, 37, 38, 42],\n",
    "                     'Anxiety': [2, 4, 7, 9, 15, 19, 20, 23, 25, 28, 30, 36, 40, 41],\n",
    "                     'Stress': [1, 6, 8, 11, 12, 14, 18, 22, 27, 29, 32, 33, 35, 39]}"
   ]
  },
  {
   "cell_type": "code",
   "execution_count": 5,
   "metadata": {},
   "outputs": [],
   "source": [
    "dep = []\n",
    "for i in DASS_number_q[\"Depression\"]:\n",
    "    dep.append('Q'+str(i)+'A')\n",
    "\n",
    "stress = []\n",
    "for i in DASS_number_q[\"Stress\"]:\n",
    "    stress.append('Q'+str(i)+'A')\n",
    "\n",
    "anx = []\n",
    "for i in DASS_number_q[\"Anxiety\"]:\n",
    "    anx.append('Q'+str(i)+'A')"
   ]
  },
  {
   "cell_type": "code",
   "execution_count": 6,
   "metadata": {},
   "outputs": [],
   "source": [
    "only_q = df_data.filter(regex='Q\\d{1,2}A')\n",
    "\n",
    "depression_q = only_q.filter(dep)\n",
    "stress_q = only_q.filter(stress)\n",
    "anxiety_q = only_q.filter(anx)"
   ]
  },
  {
   "cell_type": "markdown",
   "metadata": {},
   "source": [
    "Mengecek apakah terdapat data NaN ataupun null"
   ]
  },
  {
   "cell_type": "code",
   "execution_count": 7,
   "metadata": {},
   "outputs": [
    {
     "data": {
      "text/plain": [
       "Q3A     0\n",
       "Q5A     0\n",
       "Q10A    0\n",
       "Q13A    0\n",
       "Q16A    0\n",
       "Q17A    0\n",
       "Q21A    0\n",
       "Q24A    0\n",
       "Q26A    0\n",
       "Q31A    0\n",
       "Q34A    0\n",
       "Q37A    0\n",
       "Q38A    0\n",
       "Q42A    0\n",
       "dtype: int64"
      ]
     },
     "execution_count": 7,
     "metadata": {},
     "output_type": "execute_result"
    }
   ],
   "source": [
    "depression_q.isnull().sum()"
   ]
  },
  {
   "cell_type": "code",
   "execution_count": 8,
   "metadata": {},
   "outputs": [
    {
     "data": {
      "text/plain": [
       "Q1A     0\n",
       "Q6A     0\n",
       "Q8A     0\n",
       "Q11A    0\n",
       "Q12A    0\n",
       "Q14A    0\n",
       "Q18A    0\n",
       "Q22A    0\n",
       "Q27A    0\n",
       "Q29A    0\n",
       "Q32A    0\n",
       "Q33A    0\n",
       "Q35A    0\n",
       "Q39A    0\n",
       "dtype: int64"
      ]
     },
     "execution_count": 8,
     "metadata": {},
     "output_type": "execute_result"
    }
   ],
   "source": [
    "stress_q.isnull().sum()"
   ]
  },
  {
   "cell_type": "code",
   "execution_count": 9,
   "metadata": {},
   "outputs": [
    {
     "data": {
      "text/plain": [
       "Q2A     0\n",
       "Q4A     0\n",
       "Q7A     0\n",
       "Q9A     0\n",
       "Q15A    0\n",
       "Q19A    0\n",
       "Q20A    0\n",
       "Q23A    0\n",
       "Q25A    0\n",
       "Q28A    0\n",
       "Q30A    0\n",
       "Q36A    0\n",
       "Q40A    0\n",
       "Q41A    0\n",
       "dtype: int64"
      ]
     },
     "execution_count": 9,
     "metadata": {},
     "output_type": "execute_result"
    }
   ],
   "source": [
    "anxiety_q.isnull().sum()"
   ]
  },
  {
   "cell_type": "markdown",
   "metadata": {},
   "source": [
    "Melihat variansi data pada kolom pertanyaan"
   ]
  },
  {
   "cell_type": "code",
   "execution_count": 10,
   "metadata": {},
   "outputs": [
    {
     "data": {
      "text/plain": [
       "2    14062\n",
       "1    11563\n",
       "3     7744\n",
       "4     6406\n",
       "Name: Q3A, dtype: int64"
      ]
     },
     "execution_count": 10,
     "metadata": {},
     "output_type": "execute_result"
    }
   ],
   "source": [
    "depression_q['Q3A'].value_counts()"
   ]
  },
  {
   "cell_type": "markdown",
   "metadata": {},
   "source": [
    "#### Exploratory Data Analysis"
   ]
  },
  {
   "cell_type": "markdown",
   "metadata": {},
   "source": [
    "Disini saya akan persebaran data berdasarkan variansi skor yang diperoleh sebelumnya"
   ]
  },
  {
   "cell_type": "code",
   "execution_count": 11,
   "metadata": {},
   "outputs": [],
   "source": [
    "import seaborn as sns"
   ]
  },
  {
   "cell_type": "code",
   "execution_count": 12,
   "metadata": {},
   "outputs": [
    {
     "data": {
      "text/plain": [
       "Text(0.5, 1.0, 'Depression Scores')"
      ]
     },
     "execution_count": 12,
     "metadata": {},
     "output_type": "execute_result"
    },
    {
     "data": {
      "image/png": "[encoded data removed]",
      "text/plain": [
       "<Figure size 432x288 with 1 Axes>"
      ]
     },
     "metadata": {
      "needs_background": "light"
     },
     "output_type": "display_data"
    }
   ],
   "source": [
    "bar_dep = [(depression_q[depression_q == i].sum(axis=1).sum())/(i) for i in range(1,5)]\n",
    "ax_dep=sns.barplot(x = [1,2,3,4], y=bar_dep)\n",
    "ax_dep.set_xlabel('Score')\n",
    "ax_dep.set_title('Depression Scores')"
   ]
  },
  {
   "cell_type": "markdown",
   "metadata": {},
   "source": [
    "Dari hasil visualisasi pada hasil respon kategori pertanyaan depression dapat diketahui bahwa response pada opsi kedua (Applied to me to some degree, or some of the time) adalah yang terbanyak namun persebaran datanya cukup merata."
   ]
  },
  {
   "cell_type": "code",
   "execution_count": 13,
   "metadata": {},
   "outputs": [
    {
     "data": {
      "text/plain": [
       "Text(0.5, 1.0, 'Stress Scores')"
      ]
     },
     "execution_count": 13,
     "metadata": {},
     "output_type": "execute_result"
    },
    {
     "data": {
      "image/png": "[encoded data removed]",
      "text/plain": [
       "<Figure size 432x288 with 1 Axes>"
      ]
     },
     "metadata": {
      "needs_background": "light"
     },
     "output_type": "display_data"
    }
   ],
   "source": [
    "bar_str = [(stress_q[stress_q == i].sum(axis=1).sum())/(i) for i in range(1,5)]\n",
    "ax_str=sns.barplot(x = [1,2,3,4], y=bar_str)\n",
    "ax_str.set_xlabel('Score')\n",
    "ax_str.set_title('Stress Scores')"
   ]
  },
  {
   "cell_type": "markdown",
   "metadata": {},
   "source": [
    "Dari hasil visualisasi pada hasil respon kategori pertanyaan stress dapat diketahui bahwa response pada opsi kedua (Applied to me to some degree, or some of the time) juga terbanyak."
   ]
  },
  {
   "cell_type": "code",
   "execution_count": 14,
   "metadata": {},
   "outputs": [
    {
     "data": {
      "text/plain": [
       "Text(0.5, 1.0, 'Anxiety Scores')"
      ]
     },
     "execution_count": 14,
     "metadata": {},
     "output_type": "execute_result"
    },
    {
     "data": {
      "image/png": "[encoded data removed]",
      "text/plain": [
       "<Figure size 432x288 with 1 Axes>"
      ]
     },
     "metadata": {
      "needs_background": "light"
     },
     "output_type": "display_data"
    }
   ],
   "source": [
    "bar_anx = [(anxiety_q[anxiety_q == i].sum(axis=1).sum())/(i) for i in range(1,5)]\n",
    "ax_anx=sns.barplot(x = [1,2,3,4], y=bar_anx)\n",
    "ax_anx.set_xlabel('Score')\n",
    "ax_anx.set_title('Anxiety Scores')"
   ]
  },
  {
   "cell_type": "markdown",
   "metadata": {},
   "source": [
    "Dari hasil visualisasi pada hasil respon kategori pertanyaan anxiety dapat diketahui bahwa response pada opsi pertama (Did not apply to me at all) lebih dominan daripada respon pada opsi yang lain."
   ]
  },
  {
   "cell_type": "markdown",
   "metadata": {},
   "source": [
    "#### Prepocessing Part 2"
   ]
  },
  {
   "cell_type": "markdown",
   "metadata": {},
   "source": [
    "Berdasarkan hasil referensi di website sebelumnya ternyata nilai dari skor pertanyaan berkisar daro 0 hingga 3, namun melihat variansi skor sebelumnya adalah 1 hingga 4, sehingga agar mendapat label yang sesuai nantinya perlu dilakukan pengurangan 1 poin skor pada semua data"
   ]
  },
  {
   "cell_type": "code",
   "execution_count": 15,
   "metadata": {},
   "outputs": [],
   "source": [
    "def sub(data):\n",
    "    return data.subtract(1, axis=1)\n",
    "\n",
    "depression_q = sub(depression_q)\n",
    "stress_q = sub(stress_q)\n",
    "anxiety_q = sub(anxiety_q)"
   ]
  },
  {
   "cell_type": "code",
   "execution_count": 16,
   "metadata": {},
   "outputs": [
    {
     "data": {
      "text/plain": [
       "1    14062\n",
       "0    11563\n",
       "2     7744\n",
       "3     6406\n",
       "Name: Q3A, dtype: int64"
      ]
     },
     "execution_count": 16,
     "metadata": {},
     "output_type": "execute_result"
    }
   ],
   "source": [
    "depression_q['Q3A'].value_counts()"
   ]
  },
  {
   "cell_type": "markdown",
   "metadata": {},
   "source": [
    "Berikutnya menjumlah skor tiap responden (baris)"
   ]
  },
  {
   "cell_type": "code",
   "execution_count": 17,
   "metadata": {},
   "outputs": [],
   "source": [
    "def scores(data):\n",
    "    col = list(data)\n",
    "    data[\"scores\"] = data[col].sum(axis=1)\n",
    "    return data\n",
    "\n",
    "train_dep = scores(depression_q)\n",
    "train_str = scores(stress_q)\n",
    "train_anx = scores(anxiety_q)"
   ]
  },
  {
   "cell_type": "code",
   "execution_count": 18,
   "metadata": {},
   "outputs": [
    {
     "data": {
      "text/html": [
       "<div>\n",
       "<style scoped>\n",
       "    .dataframe tbody tr th:only-of-type {\n",
       "        vertical-align: middle;\n",
       "    }\n",
       "\n",
       "    .dataframe tbody tr th {\n",
       "        vertical-align: top;\n",
       "    }\n",
       "\n",
       "    .dataframe thead th {\n",
       "        text-align: right;\n",
       "    }\n",
       "</style>\n",
       "<table border=\"1\" class=\"dataframe\">\n",
       "  <thead>\n",
       "    <tr style=\"text-align: right;\">\n",
       "      <th></th>\n",
       "      <th>Q3A</th>\n",
       "      <th>Q5A</th>\n",
       "      <th>Q10A</th>\n",
       "      <th>Q13A</th>\n",
       "      <th>Q16A</th>\n",
       "      <th>Q17A</th>\n",
       "      <th>Q21A</th>\n",
       "      <th>Q24A</th>\n",
       "      <th>Q26A</th>\n",
       "      <th>Q31A</th>\n",
       "      <th>Q34A</th>\n",
       "      <th>Q37A</th>\n",
       "      <th>Q38A</th>\n",
       "      <th>Q42A</th>\n",
       "      <th>scores</th>\n",
       "    </tr>\n",
       "  </thead>\n",
       "  <tbody>\n",
       "    <tr>\n",
       "      <th>0</th>\n",
       "      <td>1</td>\n",
       "      <td>3</td>\n",
       "      <td>0</td>\n",
       "      <td>3</td>\n",
       "      <td>3</td>\n",
       "      <td>2</td>\n",
       "      <td>0</td>\n",
       "      <td>3</td>\n",
       "      <td>3</td>\n",
       "      <td>3</td>\n",
       "      <td>2</td>\n",
       "      <td>0</td>\n",
       "      <td>1</td>\n",
       "      <td>3</td>\n",
       "      <td>27</td>\n",
       "    </tr>\n",
       "    <tr>\n",
       "      <th>1</th>\n",
       "      <td>1</td>\n",
       "      <td>3</td>\n",
       "      <td>1</td>\n",
       "      <td>3</td>\n",
       "      <td>2</td>\n",
       "      <td>3</td>\n",
       "      <td>1</td>\n",
       "      <td>1</td>\n",
       "      <td>2</td>\n",
       "      <td>1</td>\n",
       "      <td>1</td>\n",
       "      <td>3</td>\n",
       "      <td>1</td>\n",
       "      <td>1</td>\n",
       "      <td>24</td>\n",
       "    </tr>\n",
       "    <tr>\n",
       "      <th>2</th>\n",
       "      <td>3</td>\n",
       "      <td>3</td>\n",
       "      <td>3</td>\n",
       "      <td>3</td>\n",
       "      <td>3</td>\n",
       "      <td>3</td>\n",
       "      <td>3</td>\n",
       "      <td>3</td>\n",
       "      <td>0</td>\n",
       "      <td>3</td>\n",
       "      <td>3</td>\n",
       "      <td>3</td>\n",
       "      <td>3</td>\n",
       "      <td>3</td>\n",
       "      <td>39</td>\n",
       "    </tr>\n",
       "    <tr>\n",
       "      <th>3</th>\n",
       "      <td>1</td>\n",
       "      <td>2</td>\n",
       "      <td>2</td>\n",
       "      <td>0</td>\n",
       "      <td>1</td>\n",
       "      <td>2</td>\n",
       "      <td>0</td>\n",
       "      <td>0</td>\n",
       "      <td>1</td>\n",
       "      <td>2</td>\n",
       "      <td>3</td>\n",
       "      <td>1</td>\n",
       "      <td>0</td>\n",
       "      <td>1</td>\n",
       "      <td>16</td>\n",
       "    </tr>\n",
       "    <tr>\n",
       "      <th>4</th>\n",
       "      <td>2</td>\n",
       "      <td>3</td>\n",
       "      <td>2</td>\n",
       "      <td>3</td>\n",
       "      <td>2</td>\n",
       "      <td>3</td>\n",
       "      <td>2</td>\n",
       "      <td>1</td>\n",
       "      <td>3</td>\n",
       "      <td>2</td>\n",
       "      <td>3</td>\n",
       "      <td>2</td>\n",
       "      <td>2</td>\n",
       "      <td>2</td>\n",
       "      <td>32</td>\n",
       "    </tr>\n",
       "  </tbody>\n",
       "</table>\n",
       "</div>"
      ],
      "text/plain": [
       "   Q3A  Q5A  Q10A  Q13A  Q16A  Q17A  Q21A  Q24A  Q26A  Q31A  Q34A  Q37A  Q38A  \\\n",
       "0    1    3     0     3     3     2     0     3     3     3     2     0     1   \n",
       "1    1    3     1     3     2     3     1     1     2     1     1     3     1   \n",
       "2    3    3     3     3     3     3     3     3     0     3     3     3     3   \n",
       "3    1    2     2     0     1     2     0     0     1     2     3     1     0   \n",
       "4    2    3     2     3     2     3     2     1     3     2     3     2     2   \n",
       "\n",
       "   Q42A  scores  \n",
       "0     3      27  \n",
       "1     1      24  \n",
       "2     3      39  \n",
       "3     1      16  \n",
       "4     2      32  "
      ]
     },
     "execution_count": 18,
     "metadata": {},
     "output_type": "execute_result"
    }
   ],
   "source": [
    "train_dep.head()"
   ]
  },
  {
   "cell_type": "markdown",
   "metadata": {},
   "source": [
    "Selanjutnya adalah proses pelabelan berdasarkan skor yang diperoleh masing-masing responden"
   ]
  },
  {
   "cell_type": "code",
   "execution_count": 19,
   "metadata": {},
   "outputs": [],
   "source": [
    "DASS_scores = {'Depression': [(0, 10), (10, 14), (14, 21), (21, 28)],\n",
    "                'Anxiety': [(0, 8), (8, 10), (10, 15), (15, 20)],\n",
    "                'Stress': [(0, 15), (15, 19), (19, 26), (26, 34)]}"
   ]
  },
  {
   "cell_type": "code",
   "execution_count": 20,
   "metadata": {},
   "outputs": [],
   "source": [
    "def label(data, string):\n",
    "    conditions = [\n",
    "    ((data['scores'] >= DASS_scores[string][0][0])  & (data['scores'] < DASS_scores[string][0][1])),\n",
    "    ((data['scores'] >= DASS_scores[string][1][0])  & (data['scores'] < DASS_scores[string][1][1])),\n",
    "    ((data['scores'] >= DASS_scores[string][2][0])  & (data['scores'] < DASS_scores[string][2][1])),\n",
    "    ((data['scores'] >= DASS_scores[string][3][0])  & (data['scores'] < DASS_scores[string][3][1])),\n",
    "    (((data['scores'] >= DASS_scores[string][3][1])))\n",
    "    ]\n",
    "    values = ['Normal','Mild', 'Moderate', 'Severe', 'Extremely Severe']\n",
    "    data['category'] = np.select(conditions, values)\n",
    "    return data\n",
    "    \n",
    "train_dep = label(train_dep, 'Depression')\n",
    "train_str = label(train_str, \"Stress\")\n",
    "train_anx = label(train_anx, \"Anxiety\")"
   ]
  },
  {
   "cell_type": "code",
   "execution_count": 21,
   "metadata": {},
   "outputs": [
    {
     "data": {
      "text/html": [
       "<div>\n",
       "<style scoped>\n",
       "    .dataframe tbody tr th:only-of-type {\n",
       "        vertical-align: middle;\n",
       "    }\n",
       "\n",
       "    .dataframe tbody tr th {\n",
       "        vertical-align: top;\n",
       "    }\n",
       "\n",
       "    .dataframe thead th {\n",
       "        text-align: right;\n",
       "    }\n",
       "</style>\n",
       "<table border=\"1\" class=\"dataframe\">\n",
       "  <thead>\n",
       "    <tr style=\"text-align: right;\">\n",
       "      <th></th>\n",
       "      <th>Q3A</th>\n",
       "      <th>Q5A</th>\n",
       "      <th>Q10A</th>\n",
       "      <th>Q13A</th>\n",
       "      <th>Q16A</th>\n",
       "      <th>Q17A</th>\n",
       "      <th>Q21A</th>\n",
       "      <th>Q24A</th>\n",
       "      <th>Q26A</th>\n",
       "      <th>Q31A</th>\n",
       "      <th>Q34A</th>\n",
       "      <th>Q37A</th>\n",
       "      <th>Q38A</th>\n",
       "      <th>Q42A</th>\n",
       "      <th>scores</th>\n",
       "      <th>category</th>\n",
       "    </tr>\n",
       "  </thead>\n",
       "  <tbody>\n",
       "    <tr>\n",
       "      <th>0</th>\n",
       "      <td>1</td>\n",
       "      <td>3</td>\n",
       "      <td>0</td>\n",
       "      <td>3</td>\n",
       "      <td>3</td>\n",
       "      <td>2</td>\n",
       "      <td>0</td>\n",
       "      <td>3</td>\n",
       "      <td>3</td>\n",
       "      <td>3</td>\n",
       "      <td>2</td>\n",
       "      <td>0</td>\n",
       "      <td>1</td>\n",
       "      <td>3</td>\n",
       "      <td>27</td>\n",
       "      <td>Severe</td>\n",
       "    </tr>\n",
       "    <tr>\n",
       "      <th>1</th>\n",
       "      <td>1</td>\n",
       "      <td>3</td>\n",
       "      <td>1</td>\n",
       "      <td>3</td>\n",
       "      <td>2</td>\n",
       "      <td>3</td>\n",
       "      <td>1</td>\n",
       "      <td>1</td>\n",
       "      <td>2</td>\n",
       "      <td>1</td>\n",
       "      <td>1</td>\n",
       "      <td>3</td>\n",
       "      <td>1</td>\n",
       "      <td>1</td>\n",
       "      <td>24</td>\n",
       "      <td>Severe</td>\n",
       "    </tr>\n",
       "    <tr>\n",
       "      <th>2</th>\n",
       "      <td>3</td>\n",
       "      <td>3</td>\n",
       "      <td>3</td>\n",
       "      <td>3</td>\n",
       "      <td>3</td>\n",
       "      <td>3</td>\n",
       "      <td>3</td>\n",
       "      <td>3</td>\n",
       "      <td>0</td>\n",
       "      <td>3</td>\n",
       "      <td>3</td>\n",
       "      <td>3</td>\n",
       "      <td>3</td>\n",
       "      <td>3</td>\n",
       "      <td>39</td>\n",
       "      <td>Extremely Severe</td>\n",
       "    </tr>\n",
       "    <tr>\n",
       "      <th>3</th>\n",
       "      <td>1</td>\n",
       "      <td>2</td>\n",
       "      <td>2</td>\n",
       "      <td>0</td>\n",
       "      <td>1</td>\n",
       "      <td>2</td>\n",
       "      <td>0</td>\n",
       "      <td>0</td>\n",
       "      <td>1</td>\n",
       "      <td>2</td>\n",
       "      <td>3</td>\n",
       "      <td>1</td>\n",
       "      <td>0</td>\n",
       "      <td>1</td>\n",
       "      <td>16</td>\n",
       "      <td>Moderate</td>\n",
       "    </tr>\n",
       "    <tr>\n",
       "      <th>4</th>\n",
       "      <td>2</td>\n",
       "      <td>3</td>\n",
       "      <td>2</td>\n",
       "      <td>3</td>\n",
       "      <td>2</td>\n",
       "      <td>3</td>\n",
       "      <td>2</td>\n",
       "      <td>1</td>\n",
       "      <td>3</td>\n",
       "      <td>2</td>\n",
       "      <td>3</td>\n",
       "      <td>2</td>\n",
       "      <td>2</td>\n",
       "      <td>2</td>\n",
       "      <td>32</td>\n",
       "      <td>Extremely Severe</td>\n",
       "    </tr>\n",
       "  </tbody>\n",
       "</table>\n",
       "</div>"
      ],
      "text/plain": [
       "   Q3A  Q5A  Q10A  Q13A  Q16A  Q17A  Q21A  Q24A  Q26A  Q31A  Q34A  Q37A  Q38A  \\\n",
       "0    1    3     0     3     3     2     0     3     3     3     2     0     1   \n",
       "1    1    3     1     3     2     3     1     1     2     1     1     3     1   \n",
       "2    3    3     3     3     3     3     3     3     0     3     3     3     3   \n",
       "3    1    2     2     0     1     2     0     0     1     2     3     1     0   \n",
       "4    2    3     2     3     2     3     2     1     3     2     3     2     2   \n",
       "\n",
       "   Q42A  scores          category  \n",
       "0     3      27            Severe  \n",
       "1     1      24            Severe  \n",
       "2     3      39  Extremely Severe  \n",
       "3     1      16          Moderate  \n",
       "4     2      32  Extremely Severe  "
      ]
     },
     "execution_count": 21,
     "metadata": {},
     "output_type": "execute_result"
    }
   ],
   "source": [
    "train_dep.head()"
   ]
  },
  {
   "cell_type": "code",
   "execution_count": 22,
   "metadata": {},
   "outputs": [],
   "source": [
    "train_dep[\"category\"] = train_dep[\"category\"].apply(lambda x: f\"Depression {x}\")\n",
    "train_anx[\"category\"] = train_anx[\"category\"].apply(lambda x: f\"Anxious {x}\")\n",
    "train_str[\"category\"] = train_str[\"category\"].apply(lambda x: f\"Stress {x}\")"
   ]
  },
  {
   "cell_type": "markdown",
   "metadata": {},
   "source": [
    "Melihat distribusi data setelah diberi label"
   ]
  },
  {
   "cell_type": "code",
   "execution_count": 23,
   "metadata": {},
   "outputs": [
    {
     "data": {
      "text/plain": [
       "Depression Extremely Severe    13577\n",
       "Depression Normal               8856\n",
       "Depression Moderate             7079\n",
       "Depression Severe               6477\n",
       "Depression Mild                 3786\n",
       "Name: category, dtype: int64"
      ]
     },
     "execution_count": 23,
     "metadata": {},
     "output_type": "execute_result"
    }
   ],
   "source": [
    "train_dep[\"category\"].value_counts()"
   ]
  },
  {
   "cell_type": "code",
   "execution_count": 24,
   "metadata": {},
   "outputs": [
    {
     "data": {
      "text/plain": [
       "Stress Normal              11800\n",
       "Stress Moderate             8730\n",
       "Stress Severe               8575\n",
       "Stress Extremely Severe     5749\n",
       "Stress Mild                 4921\n",
       "Name: category, dtype: int64"
      ]
     },
     "execution_count": 24,
     "metadata": {},
     "output_type": "execute_result"
    }
   ],
   "source": [
    "train_str[\"category\"].value_counts()"
   ]
  },
  {
   "cell_type": "code",
   "execution_count": 25,
   "metadata": {},
   "outputs": [
    {
     "data": {
      "text/plain": [
       "Anxious Extremely Severe    14122\n",
       "Anxious Normal               9728\n",
       "Anxious Moderate             7048\n",
       "Anxious Severe               6113\n",
       "Anxious Mild                 2764\n",
       "Name: category, dtype: int64"
      ]
     },
     "execution_count": 25,
     "metadata": {},
     "output_type": "execute_result"
    }
   ],
   "source": [
    "train_anx[\"category\"].value_counts()"
   ]
  },
  {
   "cell_type": "markdown",
   "metadata": {},
   "source": [
    "#### Machine Learning"
   ]
  },
  {
   "cell_type": "markdown",
   "metadata": {},
   "source": [
    "Memisahkan Data Training dan Target/Label"
   ]
  },
  {
   "cell_type": "code",
   "execution_count": 26,
   "metadata": {},
   "outputs": [],
   "source": [
    "X_dep = train_dep.drop([\"category\"], axis=1)\n",
    "y_dep = train_dep[\"category\"]\n",
    "\n",
    "X_str = train_str.drop([\"category\"], axis=1)\n",
    "y_str = train_str[\"category\"]\n",
    "\n",
    "X_anx = train_anx.drop([\"category\"], axis=1)\n",
    "y_anx = train_anx[\"category\"]"
   ]
  },
  {
   "cell_type": "markdown",
   "metadata": {},
   "source": [
    "Split Data Training"
   ]
  },
  {
   "cell_type": "code",
   "execution_count": 27,
   "metadata": {},
   "outputs": [],
   "source": [
    "from sklearn.model_selection import train_test_split\n",
    "\n",
    "X_dep_train, X_dep_test, y_dep_train, y_dep_test = train_test_split(X_dep, y_dep, test_size=0.2, stratify=y_dep)\n",
    "X_str_train, X_str_test, y_str_train, y_str_test = train_test_split(X_str, y_str, test_size=0.2, stratify=y_str)\n",
    "X_anx_train, X_anx_test, y_anx_train, y_anx_test = train_test_split(X_anx, y_anx, test_size=0.2, stratify=y_anx)\n"
   ]
  },
  {
   "cell_type": "markdown",
   "metadata": {},
   "source": [
    "Import Library"
   ]
  },
  {
   "cell_type": "code",
   "execution_count": 28,
   "metadata": {},
   "outputs": [],
   "source": [
    "from sklearn.ensemble import RandomForestClassifier\n",
    "from sklearn.tree import DecisionTreeClassifier\n",
    "from sklearn.neighbors import KNeighborsClassifier\n",
    "from sklearn.metrics import classification_report"
   ]
  },
  {
   "cell_type": "code",
   "execution_count": 29,
   "metadata": {},
   "outputs": [
    {
     "name": "stdout",
     "output_type": "stream",
     "text": [
      "                             precision    recall  f1-score   support\n",
      "\n",
      "Depression Extremely Severe       1.00      1.00      1.00      2715\n",
      "            Depression Mild       1.00      1.00      1.00       757\n",
      "        Depression Moderate       1.00      1.00      1.00      1416\n",
      "          Depression Normal       1.00      1.00      1.00      1771\n",
      "          Depression Severe       1.00      1.00      1.00      1296\n",
      "\n",
      "                   accuracy                           1.00      7955\n",
      "                  macro avg       1.00      1.00      1.00      7955\n",
      "               weighted avg       1.00      1.00      1.00      7955\n",
      "\n"
     ]
    }
   ],
   "source": [
    "# random forest\n",
    "rf = RandomForestClassifier()\n",
    "rf.fit(X_dep_train, y_dep_train)\n",
    "\n",
    "# testing\n",
    "y_pred = rf.predict(X_dep_test)\n",
    "\n",
    "# evaluasi\n",
    "print(classification_report(y_dep_test, y_pred))"
   ]
  },
  {
   "cell_type": "code",
   "execution_count": 30,
   "metadata": {},
   "outputs": [
    {
     "name": "stdout",
     "output_type": "stream",
     "text": [
      "                         precision    recall  f1-score   support\n",
      "\n",
      "Stress Extremely Severe       1.00      1.00      1.00      1150\n",
      "            Stress Mild       1.00      1.00      1.00       984\n",
      "        Stress Moderate       1.00      1.00      1.00      1746\n",
      "          Stress Normal       1.00      1.00      1.00      2360\n",
      "          Stress Severe       1.00      1.00      1.00      1715\n",
      "\n",
      "               accuracy                           1.00      7955\n",
      "              macro avg       1.00      1.00      1.00      7955\n",
      "           weighted avg       1.00      1.00      1.00      7955\n",
      "\n"
     ]
    }
   ],
   "source": [
    "# random forest\n",
    "rf = RandomForestClassifier()\n",
    "rf.fit(X_str_train, y_str_train)\n",
    "\n",
    "# testing\n",
    "y_pred = rf.predict(X_str_test)\n",
    "\n",
    "# evaluasi\n",
    "print(classification_report(y_str_test, y_pred))"
   ]
  },
  {
   "cell_type": "code",
   "execution_count": 31,
   "metadata": {},
   "outputs": [
    {
     "name": "stdout",
     "output_type": "stream",
     "text": [
      "                          precision    recall  f1-score   support\n",
      "\n",
      "Anxious Extremely Severe       1.00      1.00      1.00      2824\n",
      "            Anxious Mild       1.00      1.00      1.00       553\n",
      "        Anxious Moderate       1.00      1.00      1.00      1409\n",
      "          Anxious Normal       1.00      1.00      1.00      1946\n",
      "          Anxious Severe       1.00      1.00      1.00      1223\n",
      "\n",
      "                accuracy                           1.00      7955\n",
      "               macro avg       1.00      1.00      1.00      7955\n",
      "            weighted avg       1.00      1.00      1.00      7955\n",
      "\n"
     ]
    }
   ],
   "source": [
    "# random forest\n",
    "rf = RandomForestClassifier()\n",
    "rf.fit(X_anx_train, y_anx_train)\n",
    "\n",
    "# testing\n",
    "y_pred = rf.predict(X_anx_test)\n",
    "\n",
    "# evaluasi\n",
    "print(classification_report(y_anx_test, y_pred))"
   ]
  },
  {
   "cell_type": "code",
   "execution_count": 32,
   "metadata": {},
   "outputs": [
    {
     "name": "stdout",
     "output_type": "stream",
     "text": [
      "                             precision    recall  f1-score   support\n",
      "\n",
      "Depression Extremely Severe       1.00      1.00      1.00      2715\n",
      "            Depression Mild       1.00      1.00      1.00       757\n",
      "        Depression Moderate       1.00      1.00      1.00      1416\n",
      "          Depression Normal       1.00      1.00      1.00      1771\n",
      "          Depression Severe       1.00      1.00      1.00      1296\n",
      "\n",
      "                   accuracy                           1.00      7955\n",
      "                  macro avg       1.00      1.00      1.00      7955\n",
      "               weighted avg       1.00      1.00      1.00      7955\n",
      "\n"
     ]
    }
   ],
   "source": [
    "# train model decision tree\n",
    "tree = DecisionTreeClassifier()\n",
    "tree.fit(X_dep_train, y_dep_train)\n",
    "\n",
    "# testing\n",
    "y_pred = tree.predict(X_dep_test)\n",
    "\n",
    "# evaluasi\n",
    "print(classification_report(y_dep_test, y_pred))"
   ]
  },
  {
   "cell_type": "code",
   "execution_count": 33,
   "metadata": {},
   "outputs": [
    {
     "name": "stdout",
     "output_type": "stream",
     "text": [
      "                         precision    recall  f1-score   support\n",
      "\n",
      "Stress Extremely Severe       1.00      1.00      1.00      1150\n",
      "            Stress Mild       1.00      1.00      1.00       984\n",
      "        Stress Moderate       1.00      1.00      1.00      1746\n",
      "          Stress Normal       1.00      1.00      1.00      2360\n",
      "          Stress Severe       1.00      1.00      1.00      1715\n",
      "\n",
      "               accuracy                           1.00      7955\n",
      "              macro avg       1.00      1.00      1.00      7955\n",
      "           weighted avg       1.00      1.00      1.00      7955\n",
      "\n"
     ]
    }
   ],
   "source": [
    "# train model decision tree\n",
    "tree = DecisionTreeClassifier()\n",
    "tree.fit(X_str_train, y_str_train)\n",
    "\n",
    "# testing\n",
    "y_pred = tree.predict(X_str_test)\n",
    "\n",
    "# evaluasi\n",
    "print(classification_report(y_str_test, y_pred))"
   ]
  },
  {
   "cell_type": "code",
   "execution_count": 34,
   "metadata": {},
   "outputs": [
    {
     "name": "stdout",
     "output_type": "stream",
     "text": [
      "                          precision    recall  f1-score   support\n",
      "\n",
      "Anxious Extremely Severe       1.00      1.00      1.00      2824\n",
      "            Anxious Mild       1.00      1.00      1.00       553\n",
      "        Anxious Moderate       1.00      1.00      1.00      1409\n",
      "          Anxious Normal       1.00      1.00      1.00      1946\n",
      "          Anxious Severe       1.00      1.00      1.00      1223\n",
      "\n",
      "                accuracy                           1.00      7955\n",
      "               macro avg       1.00      1.00      1.00      7955\n",
      "            weighted avg       1.00      1.00      1.00      7955\n",
      "\n"
     ]
    }
   ],
   "source": [
    "# train model decision tree\n",
    "tree = DecisionTreeClassifier()\n",
    "tree.fit(X_anx_train, y_anx_train)\n",
    "\n",
    "# testing\n",
    "y_pred = tree.predict(X_anx_test)\n",
    "\n",
    "# evaluasi\n",
    "print(classification_report(y_anx_test, y_pred))"
   ]
  },
  {
   "cell_type": "code",
   "execution_count": 35,
   "metadata": {},
   "outputs": [
    {
     "name": "stdout",
     "output_type": "stream",
     "text": [
      "                             precision    recall  f1-score   support\n",
      "\n",
      "Depression Extremely Severe       0.99      0.99      0.99      2715\n",
      "            Depression Mild       0.99      0.96      0.98       757\n",
      "        Depression Moderate       0.96      1.00      0.98      1416\n",
      "          Depression Normal       0.98      1.00      0.99      1771\n",
      "          Depression Severe       0.98      0.94      0.96      1296\n",
      "\n",
      "                   accuracy                           0.98      7955\n",
      "                  macro avg       0.98      0.98      0.98      7955\n",
      "               weighted avg       0.98      0.98      0.98      7955\n",
      "\n"
     ]
    }
   ],
   "source": [
    "# train model knn\n",
    "knn = KNeighborsClassifier()\n",
    "knn.fit(X_dep_train, y_dep_train)\n",
    "\n",
    "# testing\n",
    "y_pred = knn.predict(X_dep_test)\n",
    "\n",
    "# evaluasi\n",
    "print(classification_report(y_dep_test, y_pred))"
   ]
  },
  {
   "cell_type": "code",
   "execution_count": 36,
   "metadata": {},
   "outputs": [
    {
     "name": "stdout",
     "output_type": "stream",
     "text": [
      "                         precision    recall  f1-score   support\n",
      "\n",
      "Stress Extremely Severe       0.99      0.98      0.99      1150\n",
      "            Stress Mild       0.92      0.95      0.93       984\n",
      "        Stress Moderate       0.99      0.95      0.97      1746\n",
      "          Stress Normal       0.98      1.00      0.99      2360\n",
      "          Stress Severe       0.98      0.99      0.99      1715\n",
      "\n",
      "               accuracy                           0.98      7955\n",
      "              macro avg       0.97      0.97      0.97      7955\n",
      "           weighted avg       0.98      0.98      0.98      7955\n",
      "\n"
     ]
    }
   ],
   "source": [
    "# train model knn\n",
    "knn = KNeighborsClassifier()\n",
    "knn.fit(X_str_train, y_str_train)\n",
    "\n",
    "# testing\n",
    "y_pred = knn.predict(X_str_test)\n",
    "\n",
    "# evaluasi\n",
    "print(classification_report(y_str_test, y_pred))"
   ]
  },
  {
   "cell_type": "code",
   "execution_count": 37,
   "metadata": {},
   "outputs": [
    {
     "name": "stdout",
     "output_type": "stream",
     "text": [
      "                          precision    recall  f1-score   support\n",
      "\n",
      "Anxious Extremely Severe       1.00      0.99      1.00      2824\n",
      "            Anxious Mild       0.95      0.75      0.84       553\n",
      "        Anxious Moderate       0.94      0.98      0.96      1409\n",
      "          Anxious Normal       0.94      1.00      0.97      1946\n",
      "          Anxious Severe       0.98      0.92      0.95      1223\n",
      "\n",
      "                accuracy                           0.97      7955\n",
      "               macro avg       0.96      0.93      0.94      7955\n",
      "            weighted avg       0.97      0.97      0.96      7955\n",
      "\n"
     ]
    }
   ],
   "source": [
    "# train model knn\n",
    "knn = KNeighborsClassifier()\n",
    "knn.fit(X_anx_train, y_anx_train)\n",
    "\n",
    "# testing\n",
    "y_pred = knn.predict(X_anx_test)\n",
    "\n",
    "# evaluasi\n",
    "print(classification_report(y_anx_test, y_pred))"
   ]
  },
  {
   "cell_type": "markdown",
   "metadata": {},
   "source": [
    "Dari semua hasil modeling sebelumnya disini saya akan menggunakan model Decision Tree untuk Deployment yang dimana model tersebut menghasilkan rata-rata nilai akurasi yang terbaik dibandingkan model lainnya"
   ]
  },
  {
   "cell_type": "code",
   "execution_count": null,
   "metadata": {},
   "outputs": [],
   "source": []
  }
 ],
 "metadata": {
  "interpreter": {
   "hash": "b2ac88caa15312ca0737f6843d610015956dc650632ca16538581948715401df"
  },
  "kernelspec": {
   "display_name": "Python 3.9.7 ('base')",
   "language": "python",
   "name": "python3"
  },
  "language_info": {
   "codemirror_mode": {
    "name": "ipython",
    "version": 3
   },
   "file_extension": ".py",
   "mimetype": "text/x-python",
   "name": "python",
   "nbconvert_exporter": "python",
   "pygments_lexer": "ipython3",
   "version": "3.9.7"
  },
  "orig_nbformat": 4
 },
 "nbformat": 4,
 "nbformat_minor": 2
}
